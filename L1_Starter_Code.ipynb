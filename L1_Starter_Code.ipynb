{
 "cells": [
  {
   "cell_type": "markdown",
   "metadata": {},
   "source": [
    "Before we get started, a couple of reminders to keep in mind when using iPython notebooks:\n",
    "\n",
    "- Remember that you can see from the left side of a code cell when it was last run if there is a number within the brackets.\n",
    "- When you start a new notebook session, make sure you run all of the cells up to the point where you last left off. Even if the output is still visible from when you ran the cells in your previous session, the kernel starts in a fresh state so you'll need to reload the data, etc. on a new session.\n",
    "- The previous point is useful to keep in mind if your answers do not match what is expected in the lesson's quizzes. Try reloading the data and run all of the processing steps one by one in order to make sure that you are working with the same variables and data that are at each quiz stage.\n",
    "\n",
    "\n",
    "## Load Data from CSVs"
   ]
  },
  {
   "cell_type": "code",
   "execution_count": 1,
   "metadata": {
    "collapsed": false
   },
   "outputs": [],
   "source": [
    "import unicodecsv\n",
    "\n",
    "## Longer version of code (replaced with shorter, equivalent version below)\n",
    "\n",
    "# enrollments = []\n",
    "# f = open('enrollments.csv', 'rb')\n",
    "# reader = unicodecsv.DictReader(f)\n",
    "# for row in reader:\n",
    "#     enrollments.append(row)\n",
    "# f.close()\n",
    "\n",
    "with open('enrollments.csv', 'rb') as f:\n",
    "    reader = unicodecsv.DictReader(f)\n",
    "    enrollments = list(reader)"
   ]
  },
  {
   "cell_type": "code",
   "execution_count": 3,
   "metadata": {
    "collapsed": false
   },
   "outputs": [
    {
     "name": "stdout",
     "output_type": "stream",
     "text": [
      "enrollments:  {'cancel_date': '2015-01-14', 'join_date': '2014-11-10', 'days_to_cancel': '65', 'is_udacity': 'True', 'account_key': '448', 'is_canceled': 'True', 'status': 'canceled'}\n",
      "daily_engagement:  {'num_courses_visited': '1.0', 'acct': '0', 'utc_date': '2015-01-09', 'lessons_completed': '0.0', 'total_minutes_visited': '11.6793745', 'projects_completed': '0.0'}\n",
      "project_submissions:  {'assigned_rating': 'UNGRADED', 'creation_date': '2015-01-14', 'processing_state': 'EVALUATED', 'lesson_key': '3176718735', 'completion_date': '2015-01-16', 'account_key': '256'}\n"
     ]
    }
   ],
   "source": [
    "#####################################\n",
    "#                 1                 #\n",
    "#####################################\n",
    "\n",
    "## Read in the data from daily_engagement.csv and project_submissions.csv \n",
    "## and store the results in the below variables.\n",
    "## Then look at the first row of each table.\n",
    "\n",
    "with open('daily_engagement.csv', 'rb') as f:\n",
    "    reader = unicodecsv.DictReader(f)\n",
    "    daily_engagement = list(reader)\n",
    "\n",
    "with open('project_submissions.csv', 'rb') as f:\n",
    "    reader = unicodecsv.DictReader(f)\n",
    "    project_submissions = list(reader)\n",
    "\n",
    "print(\"enrollments: \", enrollments[0])\n",
    "print(\"daily_engagement: \", daily_engagement[0])\n",
    "print(\"project_submissions: \", project_submissions[0])"
   ]
  },
  {
   "cell_type": "markdown",
   "metadata": {},
   "source": [
    "## Fixing Data Types"
   ]
  },
  {
   "cell_type": "code",
   "execution_count": 4,
   "metadata": {
    "collapsed": false
   },
   "outputs": [
    {
     "data": {
      "text/plain": [
       "{'account_key': '448',\n",
       " 'cancel_date': datetime.datetime(2015, 1, 14, 0, 0),\n",
       " 'days_to_cancel': 65,\n",
       " 'is_canceled': True,\n",
       " 'is_udacity': True,\n",
       " 'join_date': datetime.datetime(2014, 11, 10, 0, 0),\n",
       " 'status': 'canceled'}"
      ]
     },
     "execution_count": 4,
     "metadata": {},
     "output_type": "execute_result"
    }
   ],
   "source": [
    "from datetime import datetime as dt\n",
    "\n",
    "# Takes a date as a string, and returns a Python datetime object. \n",
    "# If there is no date given, returns None\n",
    "def parse_date(date):\n",
    "    if date == '':\n",
    "        return None\n",
    "    else:\n",
    "        return dt.strptime(date, '%Y-%m-%d')\n",
    "    \n",
    "# Takes a string which is either an empty string or represents an integer,\n",
    "# and returns an int or None.\n",
    "def parse_maybe_int(i):\n",
    "    if i == '':\n",
    "        return None\n",
    "    else:\n",
    "        return int(i)\n",
    "\n",
    "# Clean up the data types in the enrollments table\n",
    "for enrollment in enrollments:\n",
    "    enrollment['cancel_date'] = parse_date(enrollment['cancel_date'])\n",
    "    enrollment['days_to_cancel'] = parse_maybe_int(enrollment['days_to_cancel'])\n",
    "    enrollment['is_canceled'] = enrollment['is_canceled'] == 'True'\n",
    "    enrollment['is_udacity'] = enrollment['is_udacity'] == 'True'\n",
    "    enrollment['join_date'] = parse_date(enrollment['join_date'])\n",
    "    \n",
    "enrollments[0]"
   ]
  },
  {
   "cell_type": "code",
   "execution_count": 5,
   "metadata": {
    "collapsed": false
   },
   "outputs": [
    {
     "data": {
      "text/plain": [
       "{'acct': '0',\n",
       " 'lessons_completed': 0,\n",
       " 'num_courses_visited': 1,\n",
       " 'projects_completed': 0,\n",
       " 'total_minutes_visited': 11.6793745,\n",
       " 'utc_date': datetime.datetime(2015, 1, 9, 0, 0)}"
      ]
     },
     "execution_count": 5,
     "metadata": {},
     "output_type": "execute_result"
    }
   ],
   "source": [
    "# Clean up the data types in the engagement table\n",
    "for engagement_record in daily_engagement:\n",
    "    engagement_record['lessons_completed'] = int(float(engagement_record['lessons_completed']))\n",
    "    engagement_record['num_courses_visited'] = int(float(engagement_record['num_courses_visited']))\n",
    "    engagement_record['projects_completed'] = int(float(engagement_record['projects_completed']))\n",
    "    engagement_record['total_minutes_visited'] = float(engagement_record['total_minutes_visited'])\n",
    "    engagement_record['utc_date'] = parse_date(engagement_record['utc_date'])\n",
    "    \n",
    "daily_engagement[0]"
   ]
  },
  {
   "cell_type": "code",
   "execution_count": 6,
   "metadata": {
    "collapsed": false
   },
   "outputs": [
    {
     "data": {
      "text/plain": [
       "{'account_key': '256',\n",
       " 'assigned_rating': 'UNGRADED',\n",
       " 'completion_date': datetime.datetime(2015, 1, 16, 0, 0),\n",
       " 'creation_date': datetime.datetime(2015, 1, 14, 0, 0),\n",
       " 'lesson_key': '3176718735',\n",
       " 'processing_state': 'EVALUATED'}"
      ]
     },
     "execution_count": 6,
     "metadata": {},
     "output_type": "execute_result"
    }
   ],
   "source": [
    "# Clean up the data types in the submissions table\n",
    "for submission in project_submissions:\n",
    "    submission['completion_date'] = parse_date(submission['completion_date'])\n",
    "    submission['creation_date'] = parse_date(submission['creation_date'])\n",
    "\n",
    "project_submissions[0]"
   ]
  },
  {
   "cell_type": "markdown",
   "metadata": {},
   "source": [
    "## Problems in the Data"
   ]
  },
  {
   "cell_type": "code",
   "execution_count": 7,
   "metadata": {
    "collapsed": false
   },
   "outputs": [],
   "source": [
    "#####################################\n",
    "#                 3                 #\n",
    "#####################################\n",
    "\n",
    "## Rename the \"acct\" column in the daily_engagement table to \"account_key\".\n",
    "# for i in xrange(10):\n",
    "#     print daily_engagement[i]\n",
    "\n",
    "# print \"Unique stuedents in daily_engagement:\", len(set([x[\"acct\"] for x in daily_engagement]))\n",
    "\n",
    "for de in daily_engagement:\n",
    "    de['account_key'] = de.pop('acct')\n",
    "    # del de['acct']"
   ]
  },
  {
   "cell_type": "markdown",
   "metadata": {},
   "source": [
    "Note when running the above cells that we are actively changing the contents of our data variables. If you try to run these cells multiple times in the same session, an error will occur.\n",
    "\n",
    "## Investigating the Data"
   ]
  },
  {
   "cell_type": "code",
   "execution_count": 9,
   "metadata": {
    "collapsed": false
   },
   "outputs": [
    {
     "name": "stdout",
     "output_type": "stream",
     "text": [
      "1640 1302\n",
      "136240 1237\n",
      "3642 743\n"
     ]
    }
   ],
   "source": [
    "#####################################\n",
    "#                 2                 #\n",
    "#####################################\n",
    "\n",
    "## Find the total number of rows and the number of unique students (account keys)\n",
    "## in each table.\n",
    "\n",
    "# print \"Total number of enrollments:\", len(enrollments)\n",
    "# print \"Unique stuedents in enrollments:\", len(set([x[\"account_key\"] for x in enrollments]))\n",
    "\n",
    "enrollment_num_rows = len(enrollments)\n",
    "unique_enrollments = set([x[\"account_key\"] for x in enrollments])\n",
    "enrollment_num_unique_students = len(unique_enrollments)\n",
    "print(enrollment_num_rows, enrollment_num_unique_students)\n",
    "\n",
    "engagement_num_rows = len(daily_engagement)\n",
    "unique_daily_engagements = set([x[\"account_key\"] for x in daily_engagement])\n",
    "engagement_num_unique_students = len(unique_daily_engagements) \n",
    "print(engagement_num_rows, engagement_num_unique_students)\n",
    "\n",
    "submission_num_rows = len(project_submissions)\n",
    "unique_project_submissions = set([x[\"account_key\"] for x in project_submissions])\n",
    "submission_num_unique_students =  len(unique_project_submissions) \n",
    "print(submission_num_rows, submission_num_unique_students)\n"
   ]
  },
  {
   "cell_type": "markdown",
   "metadata": {},
   "source": [
    "## Missing Engagement Records"
   ]
  },
  {
   "cell_type": "code",
   "execution_count": 11,
   "metadata": {
    "collapsed": false
   },
   "outputs": [],
   "source": [
    "#####################################\n",
    "#                 4                 #\n",
    "#####################################\n",
    "\n",
    "## Find any one student enrollments where the student is missing from the daily engagement table.\n",
    "## Output that enrollment.\n",
    "surprising = []\n",
    "for item in enrollments:\n",
    "    if item['account_key'] not in unique_daily_engagements:\n",
    "        surprising.append(item)\n",
    "        "
   ]
  },
  {
   "cell_type": "markdown",
   "metadata": {},
   "source": [
    "## Checking for More Problem Records"
   ]
  },
  {
   "cell_type": "code",
   "execution_count": 13,
   "metadata": {
    "collapsed": false
   },
   "outputs": [
    {
     "name": "stdout",
     "output_type": "stream",
     "text": [
      "71\n"
     ]
    }
   ],
   "source": [
    "#####################################\n",
    "#                 5                 #\n",
    "#####################################\n",
    "\n",
    "## Find the number of surprising data points (enrollments missing from\n",
    "## the engagement table) that remain, if any.\n",
    "print(len(surprising))"
   ]
  },
  {
   "cell_type": "markdown",
   "metadata": {},
   "source": [
    "## Tracking Down the Remaining Problems"
   ]
  },
  {
   "cell_type": "code",
   "execution_count": 14,
   "metadata": {
    "collapsed": false
   },
   "outputs": [
    {
     "data": {
      "text/plain": [
       "6"
      ]
     },
     "execution_count": 14,
     "metadata": {},
     "output_type": "execute_result"
    }
   ],
   "source": [
    "# Create a set of the account keys for all Udacity test accounts\n",
    "udacity_test_accounts = set()\n",
    "for enrollment in enrollments:\n",
    "    if enrollment['is_udacity']:\n",
    "        udacity_test_accounts.add(enrollment['account_key'])\n",
    "len(udacity_test_accounts)"
   ]
  },
  {
   "cell_type": "code",
   "execution_count": 15,
   "metadata": {
    "collapsed": true
   },
   "outputs": [],
   "source": [
    "# Given some data with an account_key field, removes any records corresponding to Udacity test accounts\n",
    "def remove_udacity_accounts(data):\n",
    "    non_udacity_data = []\n",
    "    for data_point in data:\n",
    "        if data_point['account_key'] not in udacity_test_accounts:\n",
    "            non_udacity_data.append(data_point)\n",
    "    return non_udacity_data"
   ]
  },
  {
   "cell_type": "code",
   "execution_count": 16,
   "metadata": {
    "collapsed": false
   },
   "outputs": [
    {
     "name": "stdout",
     "output_type": "stream",
     "text": [
      "1622\n",
      "135656\n",
      "3634\n"
     ]
    }
   ],
   "source": [
    "# Remove Udacity test accounts from all three tables\n",
    "non_udacity_enrollments = remove_udacity_accounts(enrollments)\n",
    "non_udacity_engagement = remove_udacity_accounts(daily_engagement)\n",
    "non_udacity_submissions = remove_udacity_accounts(project_submissions)\n",
    "\n",
    "print(len(non_udacity_enrollments))\n",
    "print(len(non_udacity_engagement))\n",
    "print(len(non_udacity_submissions))"
   ]
  },
  {
   "cell_type": "markdown",
   "metadata": {},
   "source": [
    "## Refining the Question"
   ]
  },
  {
   "cell_type": "code",
   "execution_count": 17,
   "metadata": {
    "collapsed": false
   },
   "outputs": [
    {
     "name": "stdout",
     "output_type": "stream",
     "text": [
      "995\n"
     ]
    }
   ],
   "source": [
    "#####################################\n",
    "#                 6                 #\n",
    "#####################################\n",
    "\n",
    "## Create a dictionary named paid_students containing all students who either\n",
    "## haven't canceled yet or who remained enrolled for more than 7 days. The keys\n",
    "## should be account keys, and the values should be the date the student enrolled.\n",
    "\n",
    "paid_students = dict()\n",
    "for daily_engagement_record in non_udacity_enrollments:\n",
    "    if not daily_engagement_record['is_canceled'] or daily_engagement_record['days_to_cancel'] > 7:\n",
    "        account_key = daily_engagement_record['account_key']\n",
    "        enrollment_date = daily_engagement_record['join_date']\n",
    "        if account_key not in paid_students or enrollment_date > paid_students[account_key]:\n",
    "            paid_students[account_key] = enrollment_date\n",
    "print(len(paid_students))"
   ]
  },
  {
   "cell_type": "code",
   "execution_count": 18,
   "metadata": {
    "collapsed": false
   },
   "outputs": [
    {
     "data": {
      "text/plain": [
       "{'account_key': '0',\n",
       " 'lessons_completed': 0,\n",
       " 'num_courses_visited': 1,\n",
       " 'projects_completed': 0,\n",
       " 'total_minutes_visited': 11.6793745,\n",
       " 'utc_date': datetime.datetime(2015, 1, 9, 0, 0)}"
      ]
     },
     "execution_count": 18,
     "metadata": {},
     "output_type": "execute_result"
    }
   ],
   "source": [
    "non_udacity_engagement[0]"
   ]
  },
  {
   "cell_type": "markdown",
   "metadata": {},
   "source": [
    "## Getting Data from First Week"
   ]
  },
  {
   "cell_type": "code",
   "execution_count": 19,
   "metadata": {
    "collapsed": true
   },
   "outputs": [],
   "source": [
    "# Takes a student's join date and the date of a specific engagement record,\n",
    "# and returns True if that engagement record happened within one week\n",
    "# of the student joining.\n",
    "def within_one_week(join_date, engagement_date):\n",
    "    time_delta = engagement_date - join_date\n",
    "    return time_delta.days < 7 and time_delta.days >= 0"
   ]
  },
  {
   "cell_type": "code",
   "execution_count": 20,
   "metadata": {
    "collapsed": false
   },
   "outputs": [
    {
     "data": {
      "text/plain": [
       "6919"
      ]
     },
     "execution_count": 20,
     "metadata": {},
     "output_type": "execute_result"
    }
   ],
   "source": [
    "#####################################\n",
    "#                 7                 #\n",
    "#####################################\n",
    "\n",
    "## Create a list of rows from the engagement table including only rows where\n",
    "## the student is one of the paid students you just found, and the date is within\n",
    "## one week of the student's join date.\n",
    "\n",
    "paid_engagement_in_first_week = []\n",
    "for engagement_record in non_udacity_engagement:\n",
    "    acct = engagement_record['account_key']\n",
    "    if acct in paid_students:\n",
    "        if within_one_week(paid_students[acct], engagement_record['utc_date']):\n",
    "            paid_engagement_in_first_week.append(engagement_record)\n",
    "\n",
    "len(paid_engagement_in_first_week)\n"
   ]
  },
  {
   "cell_type": "markdown",
   "metadata": {},
   "source": [
    "## Exploring Student Engagement"
   ]
  },
  {
   "cell_type": "code",
   "execution_count": 21,
   "metadata": {
    "collapsed": true
   },
   "outputs": [],
   "source": [
    "from collections import defaultdict\n",
    "\n",
    "# Create a dictionary of engagement grouped by student.\n",
    "# The keys are account keys, and the values are lists of engagement records.\n",
    "engagement_by_account = defaultdict(list)\n",
    "for engagement_record in paid_engagement_in_first_week:\n",
    "    account_key = engagement_record['account_key']\n",
    "    engagement_by_account[account_key].append(engagement_record)"
   ]
  },
  {
   "cell_type": "code",
   "execution_count": 22,
   "metadata": {
    "collapsed": true
   },
   "outputs": [],
   "source": [
    "# Create a dictionary with the total minutes each student spent in the classroom during the first week.\n",
    "# The keys are account keys, and the values are numbers (total minutes)\n",
    "total_minutes_by_account = {}\n",
    "for account_key, engagement_for_student in engagement_by_account.items():\n",
    "    total_minutes = 0\n",
    "    for engagement_record in engagement_for_student:\n",
    "        total_minutes += engagement_record['total_minutes_visited']\n",
    "    total_minutes_by_account[account_key] = total_minutes"
   ]
  },
  {
   "cell_type": "code",
   "execution_count": null,
   "metadata": {
    "collapsed": false
   },
   "outputs": [],
   "source": [
    "print(total_minutes_by_account.values())"
   ]
  },
  {
   "cell_type": "code",
   "execution_count": 27,
   "metadata": {
    "collapsed": false
   },
   "outputs": [
    {
     "name": "stdout",
     "output_type": "stream",
     "text": [
      "Mean: 306.708326753\n",
      "Standard deviation: 412.996933409\n",
      "Minimum: 0.0\n",
      "Maximum: 3564.7332645\n"
     ]
    }
   ],
   "source": [
    "import numpy as np\n",
    "\n",
    "# Summarize the data about minutes spent in the classroom\n",
    "total_minutes = list(total_minutes_by_account.values())\n",
    "print('Mean:', np.mean(total_minutes))\n",
    "print('Standard deviation:', np.std(total_minutes))\n",
    "print('Minimum:', np.min(total_minutes))\n",
    "print('Maximum:', np.max(total_minutes))"
   ]
  },
  {
   "cell_type": "markdown",
   "metadata": {},
   "source": [
    "## Debugging Data Analysis Code"
   ]
  },
  {
   "cell_type": "code",
   "execution_count": 29,
   "metadata": {
    "collapsed": false,
    "scrolled": false
   },
   "outputs": [
    {
     "name": "stdout",
     "output_type": "stream",
     "text": [
      "187.32349033330001\n",
      "{'num_courses_visited': 4, 'utc_date': datetime.datetime(2015, 7, 9, 0, 0), 'lessons_completed': 4, 'total_minutes_visited': 850.519339666, 'projects_completed': 0, 'account_key': '163'}\n",
      "{'num_courses_visited': 6, 'utc_date': datetime.datetime(2015, 7, 10, 0, 0), 'lessons_completed': 6, 'total_minutes_visited': 872.633923334, 'projects_completed': 0, 'account_key': '163'}\n",
      "{'num_courses_visited': 2, 'utc_date': datetime.datetime(2015, 7, 11, 0, 0), 'lessons_completed': 6, 'total_minutes_visited': 777.018903666, 'projects_completed': 0, 'account_key': '163'}\n",
      "{'num_courses_visited': 1, 'utc_date': datetime.datetime(2015, 7, 12, 0, 0), 'lessons_completed': 2, 'total_minutes_visited': 294.568774, 'projects_completed': 0, 'account_key': '163'}\n",
      "{'num_courses_visited': 3, 'utc_date': datetime.datetime(2015, 7, 13, 0, 0), 'lessons_completed': 1, 'total_minutes_visited': 471.2139785, 'projects_completed': 0, 'account_key': '163'}\n",
      "{'num_courses_visited': 2, 'utc_date': datetime.datetime(2015, 7, 14, 0, 0), 'lessons_completed': 1, 'total_minutes_visited': 298.778345333, 'projects_completed': 0, 'account_key': '163'}\n",
      "{'num_courses_visited': 0, 'utc_date': datetime.datetime(2015, 7, 15, 0, 0), 'lessons_completed': 0, 'total_minutes_visited': 0.0, 'projects_completed': 0, 'account_key': '163'}\n"
     ]
    }
   ],
   "source": [
    "#####################################\n",
    "#                 8                 #\n",
    "#####################################\n",
    "\n",
    "## Go through a similar process as before to see if there is a problem.\n",
    "## Locate at least one surprising piece of data, output it, and take a look at it.\n",
    "max_min = 0\n",
    "max_id = 0\n",
    "for sKey, iMinute in total_minutes_by_account.items():\n",
    "    if iMinute >= max_min:\n",
    "        max_id = sKey\n",
    "        max_min = iMinute\n",
    "        \n",
    "print(iMinute)\n",
    "for item in paid_engagement_in_first_week:\n",
    "    if item['account_key'] == max_id:\n",
    "        print(item)"
   ]
  },
  {
   "cell_type": "markdown",
   "metadata": {},
   "source": [
    "## Lessons Completed in First Week"
   ]
  },
  {
   "cell_type": "code",
   "execution_count": 31,
   "metadata": {
    "collapsed": false
   },
   "outputs": [
    {
     "name": "stdout",
     "output_type": "stream",
     "text": [
      "1.63618090452\n",
      "3.00256129983\n",
      "36\n",
      "0\n"
     ]
    }
   ],
   "source": [
    "#####################################\n",
    "#                 9                 #\n",
    "#####################################\n",
    "\n",
    "## Adapt the code above to find the mean, standard deviation, minimum, and maximum for\n",
    "## the number of lessons completed by each student during the first week. Try creating\n",
    "## one or more functions to re-use the code above.\n",
    "\n",
    "def get_finishing_info():\n",
    "    lesson_finished_by_account = dict()\n",
    "    for sKey, engrec in engagement_by_account.items():\n",
    "        lesson_completed = 0\n",
    "        for jjj in engrec:\n",
    "            lesson_completed += jjj['lessons_completed']\n",
    "            lesson_finished_by_account[sKey] = lesson_completed\n",
    "    return lesson_finished_by_account\n",
    "            \n",
    "lca = list(get_finishing_info().values())\n",
    "print(np.mean(lca))\n",
    "print(np.std(lca))\n",
    "print(np.max(lca))\n",
    "print(np.min(lca))"
   ]
  },
  {
   "cell_type": "markdown",
   "metadata": {},
   "source": [
    "## Number of Visits in First Week"
   ]
  },
  {
   "cell_type": "code",
   "execution_count": 34,
   "metadata": {
    "collapsed": false
   },
   "outputs": [
    {
     "name": "stdout",
     "output_type": "stream",
     "text": [
      "2.86733668342\n",
      "2.25519800292\n",
      "0\n",
      "7\n"
     ]
    }
   ],
   "source": [
    "######################################\n",
    "#                 10                 #\n",
    "######################################\n",
    "\n",
    "## Find the mean, standard deviation, minimum, and maximum for the number of\n",
    "## days each student visits the classroom during the first week.\n",
    "for account_key, engagement_for_student in engagement_by_account.items():\n",
    "    for enr in engagement_for_student:\n",
    "        if enr['total_minutes_visited'] > 0:\n",
    "            enr['has_visited'] = 1\n",
    "        else:\n",
    "            enr['has_visited'] = 0\n",
    "    \n",
    "# print engagement_by_account['101']\n",
    "def sum_grouped_items(grouped_data, key):\n",
    "    v = dict()\n",
    "    for acct, entries in grouped_data.items():\n",
    "        itotal = 0\n",
    "        for i in entries:\n",
    "            itotal += i[key]\n",
    "        v[acct] = itotal\n",
    "    return v\n",
    "num_course_visited = sum_grouped_items(engagement_by_account, 'has_visited')\n",
    "vl = list(num_course_visited.values())\n",
    "print(np.mean(vl))\n",
    "print(np.std(vl))\n",
    "print(np.min(vl))\n",
    "print(np.max(vl))\n",
    "    "
   ]
  },
  {
   "cell_type": "markdown",
   "metadata": {},
   "source": [
    "## Splitting out Passing Students"
   ]
  },
  {
   "cell_type": "code",
   "execution_count": null,
   "metadata": {
    "collapsed": false
   },
   "outputs": [],
   "source": [
    "######################################\n",
    "#                 11                 #\n",
    "######################################\n",
    "\n",
    "## Create two lists of engagement data for paid students in the first week.\n",
    "## The first list should contain data for students who eventually pass the\n",
    "## subway project, and the second list should contain data for students\n",
    "## who do not.\n",
    "\n",
    "subway_project_lesson_keys = ['746169184', '3176718735']\n",
    "passing_engagement = set()\n",
    "non_passing_engagement = set()\n",
    "# print project_submissions[0]\n",
    "for account_key, engagement_for_student in engagement_by_account.items():\n",
    "    for psr in project_submissions:\n",
    "        if psr['lesson_key'] in subway_project_lesson_keys and psr['account_key'] == account_key:\n",
    "            if psr['processing_state'] == 'EVALUATED':\n",
    "                passing_engagement.add(account_key)\n",
    "            else:\n",
    "                non_passing_engagement.add(account_key)\n",
    "                \n",
    "print len(passing_engagement)\n",
    "print len(non_passing_engagement)\n",
    "            \n"
   ]
  },
  {
   "cell_type": "markdown",
   "metadata": {},
   "source": [
    "## Comparing the Two Student Groups"
   ]
  },
  {
   "cell_type": "code",
   "execution_count": null,
   "metadata": {
    "collapsed": true
   },
   "outputs": [],
   "source": [
    "######################################\n",
    "#                 12                 #\n",
    "######################################\n",
    "\n",
    "## Compute some metrics you're interested in and see how they differ for\n",
    "## students who pass the subway project vs. students who don't. A good\n",
    "## starting point would be the metrics we looked at earlier (minutes spent\n",
    "## in the classroom, lessons completed, and days visited)."
   ]
  },
  {
   "cell_type": "markdown",
   "metadata": {},
   "source": [
    "## Making Histograms"
   ]
  },
  {
   "cell_type": "code",
   "execution_count": 2,
   "metadata": {
    "collapsed": false
   },
   "outputs": [
    {
     "data": {
      "image/png": "[encoded data removed]",
      "text/plain": [
       "<matplotlib.figure.Figure at 0x9fb3320>"
      ]
     },
     "metadata": {},
     "output_type": "display_data"
    }
   ],
   "source": [
    "######################################\n",
    "#                 13                 #\n",
    "######################################\n",
    "\n",
    "## Make histograms of the three metrics we looked at earlier for both\n",
    "## students who passed the subway project and students who didn't. You\n",
    "## might also want to make histograms of any other metrics you examined.\n",
    "data = [1, 2, 1, 3, 3, 1, 4, 2, 5, 5]\n",
    "\n",
    "%matplotlib inline\n",
    "import matplotlib.pyplot as plt\n",
    "import seaborn as sns\n",
    "plt.hist(data)\n",
    "plt.show()"
   ]
  },
  {
   "cell_type": "markdown",
   "metadata": {},
   "source": [
    "## Improving Plots and Sharing Findings"
   ]
  },
  {
   "cell_type": "code",
   "execution_count": null,
   "metadata": {
    "collapsed": true
   },
   "outputs": [],
   "source": [
    "######################################\n",
    "#                 14                 #\n",
    "######################################\n",
    "\n",
    "## Make a more polished version of at least one of your visualizations\n",
    "## from earlier. Try importing the seaborn library to make the visualization\n",
    "## look better, adding axis labels and a title, and changing one or more\n",
    "## arguments to the hist() function."
   ]
  }
 ],
 "metadata": {
  "anaconda-cloud": {},
  "kernelspec": {
   "display_name": "Python [default]",
   "language": "python",
   "name": "python3"
  },
  "language_info": {
   "codemirror_mode": {
    "name": "ipython",
    "version": 3
   },
   "file_extension": ".py",
   "mimetype": "text/x-python",
   "name": "python",
   "nbconvert_exporter": "python",
   "pygments_lexer": "ipython3",
   "version": "3.5.2"
  }
 },
 "nbformat": 4,
 "nbformat_minor": 0
}
